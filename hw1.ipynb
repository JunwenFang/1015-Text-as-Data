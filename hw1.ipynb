{
  "nbformat": 4,
  "nbformat_minor": 0,
  "metadata": {
    "colab": {
      "provenance": [],
      "include_colab_link": true
    },
    "kernelspec": {
      "name": "python3",
      "display_name": "Python 3"
    },
    "language_info": {
      "name": "python"
    }
  },
  "cells": [
    {
      "cell_type": "markdown",
      "metadata": {
        "id": "view-in-github",
        "colab_type": "text"
      },
      "source": [
        "<a href=\"https://colab.research.google.com/github/JunwenFang/1015-Text-as-Data/blob/main/hw1.ipynb\" target=\"_parent\"><img src=\"https://colab.research.google.com/assets/colab-badge.svg\" alt=\"Open In Colab\"/></a>"
      ]
    },
    {
      "cell_type": "markdown",
      "source": [
        "## Homework 1 (36 points)\n",
        "\n",
        "*Due 11:59pm, February 28, 2025 through Brightspace*\n",
        "\n",
        "Based on material from\n",
        "\n",
        "- Lectures: Week 1, Week 2, Week 3 (up to Slide 53)\n",
        "- Lab sessions: Recitations 0, 1, 2\n",
        "\n",
        "Required files (both on Brightspace)\n",
        "\n",
        "- wiki40b.txt\n",
        "- universal_dependencies.txt\n",
        "\n",
        "As this is the first homework assignment, please be sure to read all the instructions especially carefully.\n",
        "\n",
        "1. All the work must be your own. You must not copy anyone's work, or allow anyone to copy yours (both the code and written responses). You may discuss the assignment with others, but you must prepare the responses alone.\n",
        "2. You should 1) create a copy of this notebook, 2) rename it as f\"hw1_{your_netid}.ipynb\" (e.g. hw1_aqe69420.ipynb), 3) prepare the responses, 4) download it as **.ipynb** (with all code output), and 5) submit it on Brightspace. Not following these formatting instructions greatly slows down our grading speed...\n",
        "3. Your code must be included in full so that we can assess your understanding of the problems. Note that code comments will not be graded.\n",
        "4. This notebook contains all the code/text blocks you need to complete the assignment. If you've added/deleted blocks accidentally, just refer back to this original document.\n",
        "\n",
        "\n",
        "Please see below for how an example question and response might be formatted (you are expected to add your answer after every blockquote character \\>).\n",
        "\n",
        "---\n"
      ],
      "metadata": {
        "id": "X5xFV78_9hst"
      }
    },
    {
      "cell_type": "markdown",
      "source": [
        "### Example Question\n",
        "\n",
        "Split the sentence *New York University (NYU) is a private research university in New York City, New York* by whitespace and report how many unique kinds of whitespace-delimited words there are in the sentence (2 points; 1 point for answer + 1 point for code)."
      ],
      "metadata": {
        "id": "UvVD5NlNEIaq"
      }
    },
    {
      "cell_type": "code",
      "execution_count": null,
      "metadata": {
        "colab": {
          "base_uri": "https://localhost:8080/"
        },
        "id": "f0QPsT-w9d_o",
        "outputId": "b04458c6-cd5b-4c4e-937d-cbc822300fe9"
      },
      "outputs": [
        {
          "output_type": "stream",
          "name": "stdout",
          "text": [
            "{'in', 'City,', 'New', '(NYU)', 'a', 'research', 'private', 'University', 'university', 'York', 'is'}\n",
            "11\n"
          ]
        }
      ],
      "source": [
        "# code for Example Question\n",
        "\n",
        "def split_string(my_string):\n",
        "  return set(my_string.split())\n",
        "\n",
        "nyu = split_string(\"New York University (NYU) is a private research university in New York City, New York\")\n",
        "print(nyu)\n",
        "print(len(nyu))"
      ]
    },
    {
      "cell_type": "markdown",
      "source": [
        "Answer to Example Question:\n",
        "> 11\n",
        "\n",
        "---\n",
        "#### Begin actual assignment:"
      ],
      "metadata": {
        "id": "C38PoYUhGBgi"
      }
    },
    {
      "cell_type": "markdown",
      "source": [
        "## Basic Information\n",
        "\n",
        "1. Please enter your name (as it appears on Brightspace).\n",
        ">\n",
        "\n",
        "2. Who did you collaborate with on this assignment (enter N/A if no one)?\n",
        ">\n",
        "\n",
        "3. Did you use generative AI tools, and if so, which tools and for what purpose (enter N/A if none)?\n",
        ">\n"
      ],
      "metadata": {
        "id": "i1alv_pcHp77"
      }
    },
    {
      "cell_type": "markdown",
      "source": [
        "## Question 1 (6 points)\n",
        "\n",
        "Objective: Question 1 tests your understanding of basic definitions.\n",
        "\n",
        "Given two vectors $$\\mathbf{x} = \\begin{bmatrix} 1 \\\\ 3 \\\\ 5 \\\\ 7 \\end{bmatrix}, \\ \\mathbf{y} = \\begin{bmatrix} 2 \\\\ 4 \\\\ 6 \\\\ 8 \\end{bmatrix},$$\n",
        "\n",
        "1-1. Calculate the Euclidean distance between $\\mathbf{x}$ and $\\mathbf{y}$ (2 points; 1 point for answer + 1 point for code).\n",
        "\n",
        "1-2. Calculate the Manhattan distance between $\\mathbf{x}$ and $\\mathbf{y}$ (2 points; 1 point for answer + 1 point for code).\n",
        "\n",
        "1-3. Calculate the cosine similarity between $\\mathbf{x}$ and $\\mathbf{y}$ (2 points; 1 point for answer + 1 point for code).\n",
        "\n",
        "The use of libraries is **not allowed** for Question 1."
      ],
      "metadata": {
        "id": "sg7_g6WfHBSK"
      }
    },
    {
      "cell_type": "code",
      "source": [
        "# use this block for 1-1, 1-2, and 1-3\n",
        "# you can write a function to calculate the quantities,\n",
        "# or write out the equation and evaluate the answer.\n",
        "\n",
        "# code for 1-1\n",
        "\n",
        "\n",
        "# code for 1-2\n",
        "\n",
        "\n",
        "# code for 1-3\n",
        "\n"
      ],
      "metadata": {
        "id": "n7O_EfxNNSB5"
      },
      "execution_count": null,
      "outputs": []
    },
    {
      "cell_type": "markdown",
      "source": [
        "Answer to 1-1:\n",
        ">\n",
        "\n",
        "Answer to 1-2:\n",
        ">\n",
        "\n",
        "Answer to 1-3:\n",
        ">"
      ],
      "metadata": {
        "id": "l2h8HRHNOIb7"
      }
    },
    {
      "cell_type": "markdown",
      "source": [
        "## Question 2 (8 points)\n",
        "\n",
        "Objective: Question 2 tests your skill to preprocess \"real\" text data, as might be required for your project. As mentioned in the lecture, text data is often noisy and can require more thought and work to preprocess than textbook examples.\n",
        "\n",
        "2-1. Preprocess the three Wikipedia articles in the provided \"wiki40b.txt\" and report the length of the resulting vocabulary, $|V|$. Follow these instructions (4 points; 1 point for answer + 3 points for code):\n",
        "- Preprocess only the paragraph text (no titles or headers)\n",
        "- No special tags (like *\\_NEWLINE\\_*) should be included\n",
        "- Apply lowercasing\n",
        "- Remove punctuation"
      ],
      "metadata": {
        "id": "SIU6WA3lNH1i"
      }
    },
    {
      "cell_type": "code",
      "source": [
        "# code for 2-1\n",
        "# the use of libraries is allowed\n",
        "\n"
      ],
      "metadata": {
        "id": "gbLZMxbjY477"
      },
      "execution_count": null,
      "outputs": []
    },
    {
      "cell_type": "markdown",
      "source": [
        "Answer to 2-1:\n",
        ">"
      ],
      "metadata": {
        "id": "PkC56-GFa486"
      }
    },
    {
      "cell_type": "markdown",
      "source": [
        "2-2. Preprocess the three sentences in the provided \"universal_dependencies.txt\" and print the resulting vocabulary and report its length. Follow these instructions (4 points; 1 point for answer + 3 points for code):\n",
        "\n",
        "- Preprocess only the words in the tab-separated columns\n",
        "- Build a vocabulary by joining the lemma in the third column and the part-of-speech in the fourth column with an underscore (like *underlie\\_VERB*)\n",
        "- No meta information (like *\\# sent_id = GUM_academic_exposure-2*) should be included"
      ],
      "metadata": {
        "id": "yAyVO4uWY_GO"
      }
    },
    {
      "cell_type": "code",
      "source": [
        "# code for 2-2\n",
        "# the use of libraries is allowed\n",
        "\n"
      ],
      "metadata": {
        "id": "L1e9l707bRke"
      },
      "execution_count": null,
      "outputs": []
    },
    {
      "cell_type": "markdown",
      "source": [
        "Answer to 2-2 (just the length, the print output should be part of the code output above):\n",
        ">"
      ],
      "metadata": {
        "id": "8XwFOsttbURo"
      }
    },
    {
      "cell_type": "markdown",
      "source": [
        "## Question 3 (8 points)\n",
        "\n",
        "Objective: Question 3 tests your ability to interpret the data correctly and draw the correct conclusions.\n",
        "\n",
        "3-1. Your zoo enthusiast friend recently visited two zoos (Zoo 1 and Zoo 2) and built an animal-zoo frequency vector (analogous to term-document frequency vector) at each zoo. They share with you the following vocabulary and vector for each zoo:"
      ],
      "metadata": {
        "id": "3BgA6fdONKBH"
      }
    },
    {
      "cell_type": "code",
      "source": [
        "from sklearn.metrics.pairwise import euclidean_distances\n",
        "\n",
        "vocab_zoo1 = [\"lion\", \"tiger\", \"elephant\", \"giraffe\", \"zebra\", \"panda\", \"kangaroo\", \"monkey\", \"wolf\", \"bear\"]\n",
        "vector_zoo1 = [23, 17, 11, 25, 9, 12, 1, 8, 15, 14]\n",
        "\n",
        "vocab_zoo2 = [\"dolphin\", \"giraffe\", \"monkey\", \"penguin\", \"crocodile\", \"bear\", \"hippopotamus\", \"shark\", \"wolf\", \"panda\"]\n",
        "vector_zoo2 = [17, 3, 2, 15, 22, 1, 8, 12, 9, 3]\n",
        "\n",
        "print(euclidean_distances([vector_zoo1, vector_zoo2]))"
      ],
      "metadata": {
        "colab": {
          "base_uri": "https://localhost:8080/"
        },
        "id": "Qa9JNf0Km0zS",
        "outputId": "c4efb1d3-91e7-4e3f-b8aa-87d1f04f436c"
      },
      "execution_count": null,
      "outputs": [
        {
          "output_type": "stream",
          "name": "stdout",
          "text": [
            "[[ 0.         30.41381265]\n",
            " [30.41381265  0.        ]]\n"
          ]
        }
      ]
    },
    {
      "cell_type": "markdown",
      "source": [
        "Based on the output above, they conclude that the Euclidean distance of the two animal-zoo frequency vectors is about 30.41. Why is their reasoning incorrect (2 points)?\n",
        ">"
      ],
      "metadata": {
        "id": "NbtED1RipzZD"
      }
    },
    {
      "cell_type": "markdown",
      "source": [
        "3-2. Calculate the correct Euclidean distance between the two vectors (2 points; 1 point for answer + 1 points for code)."
      ],
      "metadata": {
        "id": "49a9S3q3qsOl"
      }
    },
    {
      "cell_type": "code",
      "source": [
        "# code for 3-2\n",
        "# the use of libraries is allowed\n",
        "# you can assume that the variables from the code block above carries over\n",
        "\n"
      ],
      "metadata": {
        "id": "ZVsf71rfrOhc"
      },
      "execution_count": null,
      "outputs": []
    },
    {
      "cell_type": "markdown",
      "source": [
        "Answer to 3-2:\n",
        ">"
      ],
      "metadata": {
        "id": "YlUa6Pb7sEhm"
      }
    },
    {
      "cell_type": "markdown",
      "source": [
        "3-3. Which three animals 'contribute most' to the Euclidean distance between the two vectors (which three animals have the biggest difference in frequency; 2 points; 1 point for answer + 1 points for code)?"
      ],
      "metadata": {
        "id": "iPKS-x-NsYN9"
      }
    },
    {
      "cell_type": "code",
      "source": [
        "# code for 3-3\n",
        "# the use of libraries is allowed\n",
        "# you can assume that the variables from the code block above carries over\n",
        "\n"
      ],
      "metadata": {
        "id": "cTPPlKIwwpMU"
      },
      "execution_count": null,
      "outputs": []
    },
    {
      "cell_type": "markdown",
      "source": [
        "Answer to 3-3:\n",
        ">"
      ],
      "metadata": {
        "id": "8hi34KJZwrs0"
      }
    },
    {
      "cell_type": "markdown",
      "source": [
        "3-4. Based on your responses to 3-2 and 3-3, what reasonable conclusions can you draw about the difference between Zoo 1 and Zoo 2? Assume your friend correctly counted all the animals at the two Zoos (answer in 1-2 sentences; 2 points).\n",
        ">"
      ],
      "metadata": {
        "id": "CrSzuCS0wvG0"
      }
    },
    {
      "cell_type": "markdown",
      "source": [
        "## Question 4 (6 points)\n",
        "\n",
        "Objective: Question 4 is about co-occurrence matrices, which are important for text analysis and NLP.\n",
        "\n",
        "4-1. Assume that the predefined `split_data` variable below is a sequence of preprocessed words. Using this data and the provided `word_index`, build and print two co-occurrence matrices using different context windows (4 points; 1 point for print output + 3 points for code).\n",
        "- Matrix 1: The context window is one word to the **right**.\n",
        "- Matrix 2: The context window is one word to the **left**.\n",
        "\n",
        "Hint: Adapt the code from Recitation #2, but be careful, because this is different from the lab session example, in which the context window was to both the left and the right.\n",
        "\n",
        "Warning: As `[\"A\", \"B\", \"C\", \"D\"]` occurs as both the word and the context, it may be easy to confuse what the rows and columns represent in the matrices. Not confusing this is important for 4-2 below."
      ],
      "metadata": {
        "id": "jORoH2n4NLIc"
      }
    },
    {
      "cell_type": "code",
      "source": [
        "# build on the code below for 4-1\n",
        "# the use of libraries is allowed\n",
        "# use these pre-defined variables below\n",
        "raw_data = \"D D A B C D D A B D D D A B C D A B C A B C C C A B A B D A B D C A B C A B A B D C C D A B D A B A B D D D D C D C D A B A B A B D A B C C C C A B D C C C C D D D C A B C D A B C A B A B A B C D A B C D D C A B D A B D D A B A B C C A B C C D A B D A B A B C D D A B D C D A B D D A B D D C A B D A B C A B C D A B A B A B D A B C D A B D A B C D A B D A B C A B A B A B D A B D C A B D A B C D A B A B A B A B C D C A B C A B D D A B C D D C D C D D D D C C A B A B C D A B A B C C A B A B C A B D D D A B D C C D D D A B C C D C D A B C D D D D D D C C D C A B C C C D C D C A B A B A B D C D D A B A B A B D C A B C D D C A B A B A B A B D A B A B A B C C D A B C C C D D A B D C D A B A B A B D A B A B A B C A B D D C C C A B A B D A B D D D C D D D C A B D A B D A B C C A B C A B C C D A B A B D C A B D C A B D D C D D A B A B C D C D D C C C D D A B C A B D C C C C D A B A B A B C D C C D D C D D C A B A B D C A B D D D D C C D D A B D D C D C D C A B A B D A B D C D A B D A B A B C D A B D C A B C D D A B A B D D A B C C C C D C D D C A B C C D C A B D A B A B A B A B D A B C C C D D C C C D D D A B A B D D D D D C C C D A B D D C A B D A B D D C A B C D D D C D A B D C A B D C D C A B C A B A B D D D D D D C D D D D D D C C C D D C A B D C C D A B A B D A B D C A B C C A B A B A B A B C C\"\n",
        "split_data = raw_data.split()\n",
        "word_index = {word: idx for idx, word in enumerate([\"A\", \"B\", \"C\", \"D\"])}\n",
        "\n",
        "print(len(split_data))  # 655\n",
        "\n"
      ],
      "metadata": {
        "id": "dZqqaULa8twe"
      },
      "execution_count": null,
      "outputs": []
    },
    {
      "cell_type": "markdown",
      "source": [
        "4-2. Upon visual inspection of the matrices (you don't need to calculate any distances), are the representations for each word the same or different across the two matrices? Why or why not (2 points; 1 point for correctly identifying same/different + 1 point for reason)?\n",
        ">"
      ],
      "metadata": {
        "id": "EN55aPSyDbUR"
      }
    },
    {
      "cell_type": "markdown",
      "source": [
        "## Question 5 (8 points)\n",
        "\n",
        "Objective: Question 5 is to prepare you for the final research project.\n",
        "\n",
        "5-1. Formulate a research question you would like to tackle for your final project. This will be evaluated in light of the FINER method introduced in the first lecture (2 points).\n",
        ">\n",
        "\n",
        "5-2. In about 2-3 sentences, convince us why we should care about this research question. Can it reveal new scientific findings about the world? Can it lead to useful engineering applications (3 points)?\n",
        ">\n",
        "\n",
        "5-3. In about 2-3 sentences, describe why this research question is best answered using text data, and what kind of text data you expect to use (3 points).\n",
        ">"
      ],
      "metadata": {
        "id": "2HzVbqhCNNen"
      }
    }
  ]
}