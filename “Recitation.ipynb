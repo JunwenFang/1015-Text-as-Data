{
  "nbformat": 4,
  "nbformat_minor": 0,
  "metadata": {
    "colab": {
      "provenance": [],
      "gpuType": "T4",
      "include_colab_link": true
    },
    "kernelspec": {
      "name": "python3",
      "display_name": "Python 3"
    },
    "language_info": {
      "name": "python"
    },
    "accelerator": "GPU"
  },
  "cells": [
    {
      "cell_type": "markdown",
      "metadata": {
        "id": "view-in-github",
        "colab_type": "text"
      },
      "source": [
        "<a href=\"https://colab.research.google.com/github/JunwenFang/1015-Text-as-Data/blob/main/%E2%80%9CRecitation.ipynb\" target=\"_parent\"><img src=\"https://colab.research.google.com/assets/colab-badge.svg\" alt=\"Open In Colab\"/></a>"
      ]
    },
    {
      "cell_type": "markdown",
      "source": [
        "# Recitation 0, 01/30/25\n",
        "\n",
        "- Text As Data Spring 2025\n",
        "- TAs: Dias Akhmetbekov, Sarthak Khandelwal\n",
        "\n",
        "## Introductory Lab: Text as Data\n",
        "\n",
        "Welcome to the first lab session of the 'Text as Data' course! In this session, we will explore the basics of Google Colab and perform some hands-on text analysis.\n"
      ],
      "metadata": {
        "id": "3EMxPF_sC3Nf"
      }
    },
    {
      "cell_type": "markdown",
      "source": [
        "### Notebook Navigation\n",
        "- Cells (code vs. markdown)\n",
        "- Keyboard shortcuts:\n",
        "  - Cell Execution\n",
        "    - `Shift + Enter`: Run the current cell and move to the next one\n",
        "    - `CMD + Enter`: Run the current cell and stay in the same cell\n",
        "  - Cell Manipulation\n",
        "    - `CMD + M A`: Insert a new cell above the current one\n",
        "    - `CMD + M B`: Insert a new cell below the current one\n",
        "    - `CMD + M D`: Delete the current cell\n",
        " - Cell Type Conversion\n",
        "    - `CMD + M M`: Convert the current cell to a Markdown cell\n",
        "    - `CMD + M Y`: Convert the current cell to a code cell\n",
        "- Runtime types (CPU/GPU).\n",
        "\n",
        "### Python Refresher\n",
        "- Practice basic syntax, variables, and data types (strings, lists) using Colab's pre-installed libraries.\n",
        "\n",
        "#### Exercise\n",
        "Run the following Python script to print a greeting and perform string concatenation:\n"
      ],
      "metadata": {
        "id": "-3i1iIcdQNz0"
      }
    },
    {
      "cell_type": "code",
      "source": [
        "# Python Refresher\n",
        "name = input('Enter your name: ')\n",
        "print(f'Hello, {name}! Welcome to the Text as Data course.')\n",
        "\n",
        "# String concatenation example\n",
        "part1 = 'Text as'\n",
        "part2 = ' Data'\n",
        "print(part1 + part2)"
      ],
      "metadata": {
        "id": "5n-wSQs4Qy-M",
        "colab": {
          "base_uri": "https://localhost:8080/"
        },
        "outputId": "633ab05b-e179-476d-bce1-3558304b10fe"
      },
      "execution_count": 1,
      "outputs": [
        {
          "output_type": "stream",
          "name": "stdout",
          "text": [
            "Enter your name: frank\n",
            "Hello, frank! Welcome to the Text as Data course.\n",
            "Text as Data\n"
          ]
        }
      ]
    },
    {
      "cell_type": "markdown",
      "source": [
        "## GPU Runtime\n",
        "Google colab also comes with a free GPU runtime with restricted usage levels.\n",
        "It is good for small workloads."
      ],
      "metadata": {
        "id": "QPhX6AhjPCbK"
      }
    },
    {
      "cell_type": "code",
      "source": [
        "import torch\n",
        "# Check if CUDA is available\n",
        "print(\"CUDA available:\", torch.cuda.is_available())\n",
        "\n",
        "# Get the number of CUDA devices\n",
        "print(\"Number of CUDA devices:\", torch.cuda.device_count())\n",
        "\n",
        "# Get the current CUDA device\n",
        "print(\"Current CUDA device:\", torch.cuda.current_device())\n",
        "\n",
        "# Get the CUDA device object\n",
        "device = torch.cuda.device(0)\n",
        "print(\"CUDA device object:\", device)\n",
        "\n",
        "# Get the name of the CUDA device\n",
        "print(\"CUDA device name:\", torch.cuda.get_device_name(0))"
      ],
      "metadata": {
        "id": "QOIgGiXCN9o8",
        "colab": {
          "base_uri": "https://localhost:8080/",
          "height": 391
        },
        "outputId": "130d0cbb-6688-42ca-8606-b354c21f99b0"
      },
      "execution_count": 2,
      "outputs": [
        {
          "output_type": "stream",
          "name": "stdout",
          "text": [
            "CUDA available: False\n",
            "Number of CUDA devices: 0\n"
          ]
        },
        {
          "output_type": "error",
          "ename": "RuntimeError",
          "evalue": "Found no NVIDIA driver on your system. Please check that you have an NVIDIA GPU and installed a driver from http://www.nvidia.com/Download/index.aspx",
          "traceback": [
            "\u001b[0;31m---------------------------------------------------------------------------\u001b[0m",
            "\u001b[0;31mRuntimeError\u001b[0m                              Traceback (most recent call last)",
            "\u001b[0;32m<ipython-input-2-5d3bed8b6ed1>\u001b[0m in \u001b[0;36m<cell line: 0>\u001b[0;34m()\u001b[0m\n\u001b[1;32m      7\u001b[0m \u001b[0;34m\u001b[0m\u001b[0m\n\u001b[1;32m      8\u001b[0m \u001b[0;31m# Get the current CUDA device\u001b[0m\u001b[0;34m\u001b[0m\u001b[0;34m\u001b[0m\u001b[0m\n\u001b[0;32m----> 9\u001b[0;31m \u001b[0mprint\u001b[0m\u001b[0;34m(\u001b[0m\u001b[0;34m\"Current CUDA device:\"\u001b[0m\u001b[0;34m,\u001b[0m \u001b[0mtorch\u001b[0m\u001b[0;34m.\u001b[0m\u001b[0mcuda\u001b[0m\u001b[0;34m.\u001b[0m\u001b[0mcurrent_device\u001b[0m\u001b[0;34m(\u001b[0m\u001b[0;34m)\u001b[0m\u001b[0;34m)\u001b[0m\u001b[0;34m\u001b[0m\u001b[0;34m\u001b[0m\u001b[0m\n\u001b[0m\u001b[1;32m     10\u001b[0m \u001b[0;34m\u001b[0m\u001b[0m\n\u001b[1;32m     11\u001b[0m \u001b[0;31m# Get the CUDA device object\u001b[0m\u001b[0;34m\u001b[0m\u001b[0;34m\u001b[0m\u001b[0m\n",
            "\u001b[0;32m/usr/local/lib/python3.11/dist-packages/torch/cuda/__init__.py\u001b[0m in \u001b[0;36mcurrent_device\u001b[0;34m()\u001b[0m\n\u001b[1;32m    938\u001b[0m \u001b[0;32mdef\u001b[0m \u001b[0mcurrent_device\u001b[0m\u001b[0;34m(\u001b[0m\u001b[0;34m)\u001b[0m \u001b[0;34m->\u001b[0m \u001b[0mint\u001b[0m\u001b[0;34m:\u001b[0m\u001b[0;34m\u001b[0m\u001b[0;34m\u001b[0m\u001b[0m\n\u001b[1;32m    939\u001b[0m     \u001b[0;34mr\"\"\"Return the index of a currently selected device.\"\"\"\u001b[0m\u001b[0;34m\u001b[0m\u001b[0;34m\u001b[0m\u001b[0m\n\u001b[0;32m--> 940\u001b[0;31m     \u001b[0m_lazy_init\u001b[0m\u001b[0;34m(\u001b[0m\u001b[0;34m)\u001b[0m\u001b[0;34m\u001b[0m\u001b[0;34m\u001b[0m\u001b[0m\n\u001b[0m\u001b[1;32m    941\u001b[0m     \u001b[0;32mreturn\u001b[0m \u001b[0mtorch\u001b[0m\u001b[0;34m.\u001b[0m\u001b[0m_C\u001b[0m\u001b[0;34m.\u001b[0m\u001b[0m_cuda_getDevice\u001b[0m\u001b[0;34m(\u001b[0m\u001b[0;34m)\u001b[0m\u001b[0;34m\u001b[0m\u001b[0;34m\u001b[0m\u001b[0m\n\u001b[1;32m    942\u001b[0m \u001b[0;34m\u001b[0m\u001b[0m\n",
            "\u001b[0;32m/usr/local/lib/python3.11/dist-packages/torch/cuda/__init__.py\u001b[0m in \u001b[0;36m_lazy_init\u001b[0;34m()\u001b[0m\n\u001b[1;32m    317\u001b[0m         \u001b[0;32mif\u001b[0m \u001b[0;34m\"CUDA_MODULE_LOADING\"\u001b[0m \u001b[0;32mnot\u001b[0m \u001b[0;32min\u001b[0m \u001b[0mos\u001b[0m\u001b[0;34m.\u001b[0m\u001b[0menviron\u001b[0m\u001b[0;34m:\u001b[0m\u001b[0;34m\u001b[0m\u001b[0;34m\u001b[0m\u001b[0m\n\u001b[1;32m    318\u001b[0m             \u001b[0mos\u001b[0m\u001b[0;34m.\u001b[0m\u001b[0menviron\u001b[0m\u001b[0;34m[\u001b[0m\u001b[0;34m\"CUDA_MODULE_LOADING\"\u001b[0m\u001b[0;34m]\u001b[0m \u001b[0;34m=\u001b[0m \u001b[0;34m\"LAZY\"\u001b[0m\u001b[0;34m\u001b[0m\u001b[0;34m\u001b[0m\u001b[0m\n\u001b[0;32m--> 319\u001b[0;31m         \u001b[0mtorch\u001b[0m\u001b[0;34m.\u001b[0m\u001b[0m_C\u001b[0m\u001b[0;34m.\u001b[0m\u001b[0m_cuda_init\u001b[0m\u001b[0;34m(\u001b[0m\u001b[0;34m)\u001b[0m\u001b[0;34m\u001b[0m\u001b[0;34m\u001b[0m\u001b[0m\n\u001b[0m\u001b[1;32m    320\u001b[0m         \u001b[0;31m# Some of the queued calls may reentrantly call _lazy_init();\u001b[0m\u001b[0;34m\u001b[0m\u001b[0;34m\u001b[0m\u001b[0m\n\u001b[1;32m    321\u001b[0m         \u001b[0;31m# we need to just return without initializing in that case.\u001b[0m\u001b[0;34m\u001b[0m\u001b[0;34m\u001b[0m\u001b[0m\n",
            "\u001b[0;31mRuntimeError\u001b[0m: Found no NVIDIA driver on your system. Please check that you have an NVIDIA GPU and installed a driver from http://www.nvidia.com/Download/index.aspx"
          ]
        }
      ]
    },
    {
      "cell_type": "markdown",
      "source": [
        "## Basic Operations\n",
        "- Perform operations like lowercasing, removing punctuation/numbers, tokenization, and word counting.\n",
        "\n",
        "#### Exercise\n",
        "Clean the following sample text and generate word frequency stats:\n"
      ],
      "metadata": {
        "id": "IXtattSZRdP-"
      }
    },
    {
      "cell_type": "code",
      "source": [
        "import string\n",
        "string.punctuation"
      ],
      "metadata": {
        "colab": {
          "base_uri": "https://localhost:8080/",
          "height": 35
        },
        "id": "7vsWU5FUTGNE",
        "outputId": "e807edb2-a8c2-48d5-f3b2-3d4eb33dce73"
      },
      "execution_count": null,
      "outputs": [
        {
          "output_type": "execute_result",
          "data": {
            "text/plain": [
              "'!\"#$%&\\'()*+,-./:;<=>?@[\\\\]^_`{|}~'"
            ],
            "application/vnd.google.colaboratory.intrinsic+json": {
              "type": "string"
            }
          },
          "metadata": {},
          "execution_count": 4
        }
      ]
    },
    {
      "cell_type": "code",
      "source": [
        "# Sample text\n",
        "text = 'Alice was beginning to get very tired of sitting by her sister on the bank, and of having nothing to do.'\n",
        "\n",
        "# Clean the text\n",
        "import string\n",
        "cleaned_text = text.lower().translate(str.maketrans('', '', string.punctuation)).split()\n",
        "print(cleaned_text)\n",
        "# Word frequency\n",
        "from collections import Counter\n",
        "word_freq = Counter(cleaned_text)\n",
        "print(f'Word count: {len(cleaned_text)}')\n",
        "print('Word frequencies:', word_freq)"
      ],
      "metadata": {
        "id": "HMDY3_95Rfdi",
        "colab": {
          "base_uri": "https://localhost:8080/"
        },
        "outputId": "10107c9f-0420-44ca-ab37-17e0fca283d8"
      },
      "execution_count": null,
      "outputs": [
        {
          "output_type": "stream",
          "name": "stdout",
          "text": [
            "['alice', 'was', 'beginning', 'to', 'get', 'very', 'tired', 'of', 'sitting', 'by', 'her', 'sister', 'on', 'the', 'bank', 'and', 'of', 'having', 'nothing', 'to', 'do']\n",
            "Word count: 21\n",
            "Word frequencies: Counter({'to': 2, 'of': 2, 'alice': 1, 'was': 1, 'beginning': 1, 'get': 1, 'very': 1, 'tired': 1, 'sitting': 1, 'by': 1, 'her': 1, 'sister': 1, 'on': 1, 'the': 1, 'bank': 1, 'and': 1, 'having': 1, 'nothing': 1, 'do': 1})\n"
          ]
        }
      ]
    },
    {
      "cell_type": "code",
      "source": [
        "# Example headline\n",
        "headline = \"Breaking: NASA's Mars rover discovers ancient water traces!\"\n",
        "\n",
        "# Clean the text\n",
        "cleaned_headline = headline.lower().translate(str.maketrans('', '', string.punctuation)).split()\n",
        "\n",
        "# Word frequency\n",
        "word_freq = Counter(cleaned_headline)\n",
        "\n",
        "# Visualization\n",
        "import matplotlib.pyplot as plt\n",
        "plt.bar(word_freq.keys(), word_freq.values())\n",
        "plt.title('Word Frequency in Headline')\n",
        "plt.xlabel('Words')\n",
        "plt.ylabel('Frequency')\n",
        "plt.show()"
      ],
      "metadata": {
        "id": "DOybIQccRjKJ",
        "colab": {
          "base_uri": "https://localhost:8080/",
          "height": 472
        },
        "outputId": "e642f1d6-152b-4a7f-d9ae-9e846f942f2a"
      },
      "execution_count": null,
      "outputs": [
        {
          "output_type": "display_data",
          "data": {
            "text/plain": [
              "<Figure size 640x480 with 1 Axes>"
            ],
            "image/png": "[encoded data removed]"
          },
          "metadata": {}
        }
      ]
    },
    {
      "cell_type": "markdown",
      "source": [
        "## Using Pip\n"
      ],
      "metadata": {
        "id": "Y6WmDd3xpFe8"
      }
    },
    {
      "cell_type": "code",
      "source": [
        "pip install nltk"
      ],
      "metadata": {
        "id": "aKtl8LSupKJ_",
        "colab": {
          "base_uri": "https://localhost:8080/"
        },
        "outputId": "9a5b480f-96df-4255-c4ce-8d32347f2c90"
      },
      "execution_count": null,
      "outputs": [
        {
          "output_type": "stream",
          "name": "stdout",
          "text": [
            "Requirement already satisfied: nltk in /usr/local/lib/python3.11/dist-packages (3.9.1)\n",
            "Requirement already satisfied: click in /usr/local/lib/python3.11/dist-packages (from nltk) (8.1.8)\n",
            "Requirement already satisfied: joblib in /usr/local/lib/python3.11/dist-packages (from nltk) (1.4.2)\n",
            "Requirement already satisfied: regex>=2021.8.3 in /usr/local/lib/python3.11/dist-packages (from nltk) (2024.11.6)\n",
            "Requirement already satisfied: tqdm in /usr/local/lib/python3.11/dist-packages (from nltk) (4.67.1)\n"
          ]
        }
      ]
    },
    {
      "cell_type": "markdown",
      "source": [
        "# File I/O In Colab\n",
        "\n",
        "## Using files from Google drive\n",
        "\n",
        "You can access files in Drive in a number of ways, including:\n",
        "\n",
        " - Mounting your Google Drive in the runtime's virtual machine\n",
        " - Using a wrapper around the API such as PyDrive2\n",
        " - Using the native REST API"
      ],
      "metadata": {
        "id": "VWvvUUpzoovZ"
      }
    },
    {
      "cell_type": "code",
      "source": [
        "\"\"\"\n",
        "Google Colab is a free cloud service and now it includes free GPU!\n",
        "You can; import dataset, change runtime, use free GPU and save to GitHub.\n",
        "It's a Jupyter notebook environment that requires no setup to use and runs entirely in the cloud.\n",
        "\"\"\"\n",
        "\n",
        "import re\n",
        "from collections import Counter\n",
        "import matplotlib.pyplot as plt\n",
        "\n",
        "# Loading a file from google drive\n",
        "with open(\"./drive/MyDrive/data.txt\", \"r\") as file:\n",
        "  text = file.read()\n",
        "\n",
        "# Remove common words (a very basic stopword list)\n",
        "def remove_stopwords(words):\n",
        "    stopwords = set(['the', 'a', 'an', 'in', 'to', 'and', 'is', 'it', 'that', 'of'])\n",
        "    return [word for word in words if word not in stopwords]\n",
        "\n",
        "# Clean and process the text\n",
        "words = text.lower().translate(str.maketrans('', '', string.punctuation)).split()\n",
        "filtered_words = remove_stopwords(words)\n",
        "\n",
        "# 1. Word frequency analysis\n",
        "word_freq = Counter(filtered_words)\n",
        "most_common_words = word_freq.most_common(5)\n",
        "\n",
        "print(\"Top 5 most common words:\")\n",
        "for word, count in most_common_words:\n",
        "    print(f\"{word}: {count}\")\n",
        "\n",
        "# 2. Visualize word frequency\n",
        "plt.figure(figsize=(10, 5))\n",
        "words, counts = zip(*most_common_words)\n",
        "plt.bar(words, counts)\n",
        "plt.title(\"Top 5 Most Common Words\")\n",
        "plt.xlabel(\"Words\")\n",
        "plt.ylabel(\"Frequency\")\n",
        "plt.xticks(rotation=45)\n",
        "plt.tight_layout()\n",
        "plt.show()\n"
      ],
      "metadata": {
        "id": "OxpVmBvjT37w",
        "colab": {
          "base_uri": "https://localhost:8080/",
          "height": 589
        },
        "outputId": "29944843-30c3-4b92-f5c7-de719589e0c2"
      },
      "execution_count": null,
      "outputs": [
        {
          "output_type": "stream",
          "name": "stdout",
          "text": [
            "Top 5 most common words:\n",
            "free: 3\n",
            "cloud: 2\n",
            "gpu: 2\n",
            "use: 2\n",
            "google: 1\n"
          ]
        },
        {
          "output_type": "display_data",
          "data": {
            "text/plain": [
              "<Figure size 1000x500 with 1 Axes>"
            ],
            "image/png": "[encoded data removed]"
          },
          "metadata": {}
        }
      ]
    },
    {
      "cell_type": "markdown",
      "source": [
        "### Uploading files from your local file system\n",
        "\n",
        "`files.upload` returns a dictionary of the files which were uploaded. The dictionary is keyed by the file name and values are the data which were uploaded."
      ],
      "metadata": {
        "id": "PFvH364sV1zh"
      }
    },
    {
      "cell_type": "code",
      "source": [
        "from google.colab import files\n",
        "\n",
        "uploaded = files.upload()\n",
        "\n",
        "for fn in uploaded.keys():\n",
        "  print('User uploaded file \"{name}\" with length {length} bytes'.format(\n",
        "      name=fn, length=len(uploaded[fn])))"
      ],
      "metadata": {
        "id": "k_YGVMMzXX3Z",
        "colab": {
          "base_uri": "https://localhost:8080/",
          "height": 90
        },
        "outputId": "456182e7-8f3e-4064-a6b7-2f999144be42"
      },
      "execution_count": null,
      "outputs": [
        {
          "output_type": "display_data",
          "data": {
            "text/plain": [
              "<IPython.core.display.HTML object>"
            ],
            "text/html": [
              "\n",
              "     <input type=\"file\" id=\"files-e02818b1-c410-41c6-a9d6-f21f609d6100\" name=\"files[]\" multiple disabled\n",
              "        style=\"border:none\" />\n",
              "     <output id=\"result-e02818b1-c410-41c6-a9d6-f21f609d6100\">\n",
              "      Upload widget is only available when the cell has been executed in the\n",
              "      current browser session. Please rerun this cell to enable.\n",
              "      </output>\n",
              "      <script>// Copyright 2017 Google LLC\n",
              "//\n",
              "// Licensed under the Apache License, Version 2.0 (the \"License\");\n",
              "// you may not use this file except in compliance with the License.\n",
              "// You may obtain a copy of the License at\n",
              "//\n",
              "//      http://www.apache.org/licenses/LICENSE-2.0\n",
              "//\n",
              "// Unless required by applicable law or agreed to in writing, software\n",
              "// distributed under the License is distributed on an \"AS IS\" BASIS,\n",
              "// WITHOUT WARRANTIES OR CONDITIONS OF ANY KIND, either express or implied.\n",
              "// See the License for the specific language governing permissions and\n",
              "// limitations under the License.\n",
              "\n",
              "/**\n",
              " * @fileoverview Helpers for google.colab Python module.\n",
              " */\n",
              "(function(scope) {\n",
              "function span(text, styleAttributes = {}) {\n",
              "  const element = document.createElement('span');\n",
              "  element.textContent = text;\n",
              "  for (const key of Object.keys(styleAttributes)) {\n",
              "    element.style[key] = styleAttributes[key];\n",
              "  }\n",
              "  return element;\n",
              "}\n",
              "\n",
              "// Max number of bytes which will be uploaded at a time.\n",
              "const MAX_PAYLOAD_SIZE = 100 * 1024;\n",
              "\n",
              "function _uploadFiles(inputId, outputId) {\n",
              "  const steps = uploadFilesStep(inputId, outputId);\n",
              "  const outputElement = document.getElementById(outputId);\n",
              "  // Cache steps on the outputElement to make it available for the next call\n",
              "  // to uploadFilesContinue from Python.\n",
              "  outputElement.steps = steps;\n",
              "\n",
              "  return _uploadFilesContinue(outputId);\n",
              "}\n",
              "\n",
              "// This is roughly an async generator (not supported in the browser yet),\n",
              "// where there are multiple asynchronous steps and the Python side is going\n",
              "// to poll for completion of each step.\n",
              "// This uses a Promise to block the python side on completion of each step,\n",
              "// then passes the result of the previous step as the input to the next step.\n",
              "function _uploadFilesContinue(outputId) {\n",
              "  const outputElement = document.getElementById(outputId);\n",
              "  const steps = outputElement.steps;\n",
              "\n",
              "  const next = steps.next(outputElement.lastPromiseValue);\n",
              "  return Promise.resolve(next.value.promise).then((value) => {\n",
              "    // Cache the last promise value to make it available to the next\n",
              "    // step of the generator.\n",
              "    outputElement.lastPromiseValue = value;\n",
              "    return next.value.response;\n",
              "  });\n",
              "}\n",
              "\n",
              "/**\n",
              " * Generator function which is called between each async step of the upload\n",
              " * process.\n",
              " * @param {string} inputId Element ID of the input file picker element.\n",
              " * @param {string} outputId Element ID of the output display.\n",
              " * @return {!Iterable<!Object>} Iterable of next steps.\n",
              " */\n",
              "function* uploadFilesStep(inputId, outputId) {\n",
              "  const inputElement = document.getElementById(inputId);\n",
              "  inputElement.disabled = false;\n",
              "\n",
              "  const outputElement = document.getElementById(outputId);\n",
              "  outputElement.innerHTML = '';\n",
              "\n",
              "  const pickedPromise = new Promise((resolve) => {\n",
              "    inputElement.addEventListener('change', (e) => {\n",
              "      resolve(e.target.files);\n",
              "    });\n",
              "  });\n",
              "\n",
              "  const cancel = document.createElement('button');\n",
              "  inputElement.parentElement.appendChild(cancel);\n",
              "  cancel.textContent = 'Cancel upload';\n",
              "  const cancelPromise = new Promise((resolve) => {\n",
              "    cancel.onclick = () => {\n",
              "      resolve(null);\n",
              "    };\n",
              "  });\n",
              "\n",
              "  // Wait for the user to pick the files.\n",
              "  const files = yield {\n",
              "    promise: Promise.race([pickedPromise, cancelPromise]),\n",
              "    response: {\n",
              "      action: 'starting',\n",
              "    }\n",
              "  };\n",
              "\n",
              "  cancel.remove();\n",
              "\n",
              "  // Disable the input element since further picks are not allowed.\n",
              "  inputElement.disabled = true;\n",
              "\n",
              "  if (!files) {\n",
              "    return {\n",
              "      response: {\n",
              "        action: 'complete',\n",
              "      }\n",
              "    };\n",
              "  }\n",
              "\n",
              "  for (const file of files) {\n",
              "    const li = document.createElement('li');\n",
              "    li.append(span(file.name, {fontWeight: 'bold'}));\n",
              "    li.append(span(\n",
              "        `(${file.type || 'n/a'}) - ${file.size} bytes, ` +\n",
              "        `last modified: ${\n",
              "            file.lastModifiedDate ? file.lastModifiedDate.toLocaleDateString() :\n",
              "                                    'n/a'} - `));\n",
              "    const percent = span('0% done');\n",
              "    li.appendChild(percent);\n",
              "\n",
              "    outputElement.appendChild(li);\n",
              "\n",
              "    const fileDataPromise = new Promise((resolve) => {\n",
              "      const reader = new FileReader();\n",
              "      reader.onload = (e) => {\n",
              "        resolve(e.target.result);\n",
              "      };\n",
              "      reader.readAsArrayBuffer(file);\n",
              "    });\n",
              "    // Wait for the data to be ready.\n",
              "    let fileData = yield {\n",
              "      promise: fileDataPromise,\n",
              "      response: {\n",
              "        action: 'continue',\n",
              "      }\n",
              "    };\n",
              "\n",
              "    // Use a chunked sending to avoid message size limits. See b/62115660.\n",
              "    let position = 0;\n",
              "    do {\n",
              "      const length = Math.min(fileData.byteLength - position, MAX_PAYLOAD_SIZE);\n",
              "      const chunk = new Uint8Array(fileData, position, length);\n",
              "      position += length;\n",
              "\n",
              "      const base64 = btoa(String.fromCharCode.apply(null, chunk));\n",
              "      yield {\n",
              "        response: {\n",
              "          action: 'append',\n",
              "          file: file.name,\n",
              "          data: base64,\n",
              "        },\n",
              "      };\n",
              "\n",
              "      let percentDone = fileData.byteLength === 0 ?\n",
              "          100 :\n",
              "          Math.round((position / fileData.byteLength) * 100);\n",
              "      percent.textContent = `${percentDone}% done`;\n",
              "\n",
              "    } while (position < fileData.byteLength);\n",
              "  }\n",
              "\n",
              "  // All done.\n",
              "  yield {\n",
              "    response: {\n",
              "      action: 'complete',\n",
              "    }\n",
              "  };\n",
              "}\n",
              "\n",
              "scope.google = scope.google || {};\n",
              "scope.google.colab = scope.google.colab || {};\n",
              "scope.google.colab._files = {\n",
              "  _uploadFiles,\n",
              "  _uploadFilesContinue,\n",
              "};\n",
              "})(self);\n",
              "</script> "
            ]
          },
          "metadata": {}
        },
        {
          "output_type": "stream",
          "name": "stdout",
          "text": [
            "Saving data.txt to data.txt\n",
            "User uploaded file \"data.txt\" with length 240 bytes\n"
          ]
        }
      ]
    },
    {
      "cell_type": "markdown",
      "source": [
        "### Downloading files to your local file system\n",
        "`files.download` will invoke a browser download of the file to your local computer."
      ],
      "metadata": {
        "id": "lv-WSjacaJOk"
      }
    },
    {
      "cell_type": "code",
      "source": [
        "from google.colab import files\n",
        "\n",
        "with open('data1.txt', 'w') as f:\n",
        "  f.write('New lines from Colab')\n",
        "\n",
        "files.download('data1.txt')"
      ],
      "metadata": {
        "id": "G9svDsr1XilX",
        "colab": {
          "base_uri": "https://localhost:8080/",
          "height": 17
        },
        "outputId": "c703f2f4-7470-491a-e084-d0ae478d54ca"
      },
      "execution_count": null,
      "outputs": [
        {
          "output_type": "display_data",
          "data": {
            "text/plain": [
              "<IPython.core.display.Javascript object>"
            ],
            "application/javascript": [
              "\n",
              "    async function download(id, filename, size) {\n",
              "      if (!google.colab.kernel.accessAllowed) {\n",
              "        return;\n",
              "      }\n",
              "      const div = document.createElement('div');\n",
              "      const label = document.createElement('label');\n",
              "      label.textContent = `Downloading \"${filename}\": `;\n",
              "      div.appendChild(label);\n",
              "      const progress = document.createElement('progress');\n",
              "      progress.max = size;\n",
              "      div.appendChild(progress);\n",
              "      document.body.appendChild(div);\n",
              "\n",
              "      const buffers = [];\n",
              "      let downloaded = 0;\n",
              "\n",
              "      const channel = await google.colab.kernel.comms.open(id);\n",
              "      // Send a message to notify the kernel that we're ready.\n",
              "      channel.send({})\n",
              "\n",
              "      for await (const message of channel.messages) {\n",
              "        // Send a message to notify the kernel that we're ready.\n",
              "        channel.send({})\n",
              "        if (message.buffers) {\n",
              "          for (const buffer of message.buffers) {\n",
              "            buffers.push(buffer);\n",
              "            downloaded += buffer.byteLength;\n",
              "            progress.value = downloaded;\n",
              "          }\n",
              "        }\n",
              "      }\n",
              "      const blob = new Blob(buffers, {type: 'application/binary'});\n",
              "      const a = document.createElement('a');\n",
              "      a.href = window.URL.createObjectURL(blob);\n",
              "      a.download = filename;\n",
              "      div.appendChild(a);\n",
              "      a.click();\n",
              "      div.remove();\n",
              "    }\n",
              "  "
            ]
          },
          "metadata": {}
        },
        {
          "output_type": "display_data",
          "data": {
            "text/plain": [
              "<IPython.core.display.Javascript object>"
            ],
            "application/javascript": [
              "download(\"download_77686669-9dc2-4406-a1b2-73c85ef529e4\", \"data1.txt\", 20)"
            ]
          },
          "metadata": {}
        }
      ]
    },
    {
      "cell_type": "markdown",
      "source": [
        "# Exercise\n",
        "\n",
        "Create a plot of the top 5 words in the following piece of text (generated by Perplexity) and download the plot for the same.\n",
        "\n",
        "```\n",
        "The Golden Gate Bridge, an iconic symbol of San Francisco, stands as a testament to human engineering and architectural beauty. Spanning the Golden Gate strait, this Art Deco masterpiece has captivated visitors since its completion in 1937. Its distinctive International Orange color, chosen to complement the natural surroundings and enhance visibility in fog, has become synonymous with the city's identity. The bridge's 746-foot-tall towers and sweeping main cables not only serve a functional purpose but also create a visually striking silhouette against the Bay Area's often misty skyline. Despite its massive scale, the Golden Gate Bridge maintains an air of elegance, drawing millions of tourists each year who come to walk, bike, or simply gaze in awe at this marvel of 20th-century innovation.\n",
        "```\n",
        "\n",
        "- Remove puntuations\n",
        "- Separate words\n",
        "- Count frequency of different words\n",
        "- Create a plot\n",
        "- Download the plot"
      ],
      "metadata": {
        "id": "GH85CJ6Kac8f"
      }
    },
    {
      "cell_type": "code",
      "source": [
        "import re\n",
        "from collections import Counter\n",
        "import matplotlib.pyplot as plt\n",
        "from google.colab import files\n",
        "\n",
        "# Text about the Golden Gate Bridge generated by Perplexity\n",
        "text = \"\"\"\n",
        "The Golden Gate Bridge, an iconic symbol of San Francisco, stands as a testament to human engineering and architectural beauty. Spanning the Golden Gate strait,\n",
        "this Art Deco masterpiece has captivated visitors since its completion in 1937. Its distinctive International Orange color, chosen to complement the natural surroundings\n",
        "and enhance visibility in fog, has become synonymous with the city's identity. The bridge's 746-foot-tall towers and sweeping main cables not only serve a functional\n",
        "purpose but also create a visually striking silhouette against the Bay Area's often misty skyline. Despite its massive scale, the Golden Gate Bridge maintains an air of\n",
        "elegance, drawing millions of tourists each year who come to walk, bike, or simply gaze in awe at this marvel of 20th-century innovation.\n",
        "\"\"\"\n",
        "\n",
        "def remove_punctuations(text):\n",
        "    # Your code here\n",
        "    pass\n",
        "\n",
        "def separate_words(text):\n",
        "    # Your code here\n",
        "    pass\n",
        "\n",
        "def count_word_frequency(words):\n",
        "    # Your code here\n",
        "    pass\n",
        "\n",
        "def plot_top_words(word_freq):\n",
        "    # Your code here\n",
        "    pass\n",
        "\n",
        "def download_plot():\n",
        "    # Your code here\n",
        "    pass\n",
        "\n",
        "# Main execution\n",
        "cleaned_text = remove_punctuations(text)\n",
        "words = separate_words(cleaned_text)\n",
        "word_freq = count_word_frequency(words)\n",
        "plot_top_words(word_freq)\n",
        "download_plot()\n",
        "\n",
        "print(\"Exercise completed!\")\n"
      ],
      "metadata": {
        "id": "TIgrckNAnoYU",
        "colab": {
          "base_uri": "https://localhost:8080/",
          "height": 106
        },
        "outputId": "2a7de35f-64c6-4730-b59b-3ea3560d5b76"
      },
      "execution_count": null,
      "outputs": [
        {
          "output_type": "error",
          "ename": "IndentationError",
          "evalue": "expected an indented block after function definition on line 15 (<ipython-input-14-70c20881ade9>, line 18)",
          "traceback": [
            "\u001b[0;36m  File \u001b[0;32m\"<ipython-input-14-70c20881ade9>\"\u001b[0;36m, line \u001b[0;32m18\u001b[0m\n\u001b[0;31m    def separate_words(text):\u001b[0m\n\u001b[0m    ^\u001b[0m\n\u001b[0;31mIndentationError\u001b[0m\u001b[0;31m:\u001b[0m expected an indented block after function definition on line 15\n"
          ]
        }
      ]
    },
    {
      "cell_type": "code",
      "source": [],
      "metadata": {
        "id": "mkQ846H3oL9g"
      },
      "execution_count": null,
      "outputs": []
    }
  ]
}